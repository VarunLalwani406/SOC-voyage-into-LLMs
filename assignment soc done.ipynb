{
 "cells": [
  {
   "cell_type": "code",
   "execution_count": 1,
   "id": "9c428a9f-c0bc-4e00-81a7-d3673a615b38",
   "metadata": {},
   "outputs": [],
   "source": [
    "from torchvision import datasets , transforms"
   ]
  },
  {
   "cell_type": "markdown",
   "id": "9e30188b-5465-4a3b-b666-117f97c4711b",
   "metadata": {},
   "source": [
    "### Imported library to load data"
   ]
  },
  {
   "cell_type": "code",
   "execution_count": 3,
   "id": "9483d463-3156-4546-9408-2a6c8b2b13ca",
   "metadata": {},
   "outputs": [],
   "source": [
    "from  torchvision  import datasets , transforms\n",
    "from torch.utils.data import DataLoader , random_split\n",
    "transform = transforms.ToTensor()\n",
    "train_dataset = datasets.MNIST( root=\"./data\", train =True, download =True , transform=transform)\n",
    "test_dataset = datasets.MNIST( root=\"./data\", train= False, download=True , transform =transform)\n",
    "train_data , val_data = random_split( train_dataset , [54000, 6000])\n",
    "train_loader =DataLoader( train_data , batch_size=64 , shuffle =True)\n",
    "val_loader =DataLoader( val_data , batch_size=64 , shuffle= False)\n",
    "test_loader = DataLoader(test_dataset , batch_size=64 , shuffle=False)"
   ]
  },
  {
   "cell_type": "markdown",
   "id": "db384a5d-7833-47f9-9502-dce2df5408e8",
   "metadata": {},
   "source": [
    "### loaded the MNIST data set and separated validation part \n",
    "\n",
    "also created DataLoaders for:\n",
    "train_loader- for training the model in batches\n",
    "val_loader- for evaluating performance \n",
    "test_loader- to test final performance"
   ]
  },
  {
   "cell_type": "code",
   "execution_count": 4,
   "id": "ebe1abff-9a9a-4cf2-9725-70027e2052e9",
   "metadata": {},
   "outputs": [
    {
     "data": {
      "image/png": "[encoded data removed]",
      "text/plain": [
       "<Figure size 1000x400 with 6 Axes>"
      ]
     },
     "metadata": {},
     "output_type": "display_data"
    }
   ],
   "source": [
    "import matplotlib.pyplot as plt\n",
    "images , labels = next( iter(train_loader))\n",
    "plt.figure(figsize=(10, 4))\n",
    "for i in range(6):\n",
    "    plt.subplot( 2 , 3 , i + 1)\n",
    "    plt.imshow( images[i].squeeze() , cmap ='gray' ) \n",
    "    plt.title( f\"Label: {labels[i].item()}\")\n",
    "    plt.axis('off')\n",
    "\n",
    "\n",
    "\n",
    "plt.tight_layout()\n",
    "plt.show()"
   ]
  },
  {
   "cell_type": "markdown",
   "id": "7567c17d-0a0a-4dbe-a194-d38d029756ea",
   "metadata": {},
   "source": [
    "### visualised sample images"
   ]
  },
  {
   "cell_type": "code",
   "execution_count": 5,
   "id": "28b02631-f3f6-4c9e-8e23-70e2a7a97543",
   "metadata": {},
   "outputs": [],
   "source": [
    "import torch\n",
    "import torch.nn as nn\n",
    "class DigitClassifier(nn.Module):\n",
    "    def __init__(self):\n",
    "        super(DigitClassifier , self).__init__()\n",
    "        self.fc1 = nn.Linear(28 * 28 , 128)  \n",
    "        self.fc2= nn.Linear(128 , 64)       \n",
    "        self.fc3= nn.Linear( 64 , 10)        \n",
    "\n",
    "    def forward(self , x):\n",
    "        x= x.view(-1 , 28 * 28)           \n",
    "        x= torch.relu(self.fc1(x))        \n",
    "        x=torch.relu(self.fc2(x))      \n",
    "        x= self.fc3(x)                   \n",
    "        return x\n",
    "model = DigitClassifier()"
   ]
  },
  {
   "cell_type": "markdown",
   "id": "719580dd-f9a4-4900-b191-996c90ca8256",
   "metadata": {},
   "source": [
    "### made the neural network\n",
    "The model architecture is\n",
    "- Input layer with 784 neurons ( 28×28 flattened image)\n",
    "- Hidden Layer 1: 128 neurons with ReLU activation\n",
    "- Hidden Layer 2 : 64 neurons with ReLU activation\n",
    "- Output Layer : 10 neurons ( one for each digit class 0–9)"
   ]
  },
  {
   "cell_type": "code",
   "execution_count": 6,
   "id": "4555ef1d-45dd-4774-afa7-aba84d86de5e",
   "metadata": {},
   "outputs": [],
   "source": [
    "import torch.optim as  optim\n",
    "loss_function = nn.CrossEntropyLoss()\n",
    "optimizer = optim.Adam( model.parameters() , lr=0.001)"
   ]
  },
  {
   "cell_type": "markdown",
   "id": "3d878706-29bc-4b36-9fd9-8c89e2cc0aff",
   "metadata": {},
   "source": [
    "### Loss Function and Optimizer\n",
    "\n",
    "-Loss Function : CrossEntropyLoss\n",
    "- Optimizer: Adam\n",
    "The learning rate is set to 0.001 "
   ]
  },
  {
   "cell_type": "code",
   "execution_count": 8,
   "id": "f4708f8a-32fd-41c4-acaf-95bc05678f50",
   "metadata": {},
   "outputs": [
    {
     "name": "stdout",
     "output_type": "stream",
     "text": [
      "Epoch 1/5, Loss: 299.5806\n",
      "Epoch 2/5, Loss: 125.3931\n",
      "Epoch 3/5, Loss: 88.5061\n",
      "Epoch 4/5, Loss: 66.1827\n",
      "Epoch 5/5, Loss: 53.1904\n"
     ]
    }
   ],
   "source": [
    "epochs =5\n",
    "for epoch in range( epochs):\n",
    "    running_loss =0.0\n",
    "    for images , labels in train_loader:\n",
    "        optimizer.zero_grad()\n",
    "        outputs =model( images)\n",
    "        loss =loss_function( outputs , labels)\n",
    "        loss.backward()\n",
    "        optimizer.step()\n",
    "        running_loss += loss.item()\n",
    "\n",
    "    print(f\"Epoch {epoch+1}/{epochs}, Loss: {running_loss:.4f}\")"
   ]
  },
  {
   "cell_type": "markdown",
   "id": "bbfb55fb-6a4d-4357-9c50-a09adf7507a0",
   "metadata": {},
   "source": [
    "### Trained the model\n",
    "I trained the model for 5 epochs.  "
   ]
  },
  {
   "cell_type": "code",
   "execution_count": 9,
   "id": "fa0dbe21-bd0e-4403-b0e2-4557993a949b",
   "metadata": {},
   "outputs": [
    {
     "name": "stdout",
     "output_type": "stream",
     "text": [
      "Validation Accuracy: 97.43%\n"
     ]
    },
    {
     "data": {
      "text/plain": [
       "DigitClassifier(\n",
       "  (fc1): Linear(in_features=784, out_features=128, bias=True)\n",
       "  (fc2): Linear(in_features=128, out_features=64, bias=True)\n",
       "  (fc3): Linear(in_features=64, out_features=10, bias=True)\n",
       ")"
      ]
     },
     "execution_count": 9,
     "metadata": {},
     "output_type": "execute_result"
    }
   ],
   "source": [
    "model.eval()\n",
    "correct =0\n",
    "total = 0\n",
    "with torch.no_grad():\n",
    "    for images , labels in val_loader:\n",
    "        outputs= model( images)\n",
    "        _, predicted =torch.max( outputs , 1)\n",
    "        total +=labels.size(0)\n",
    "        correct +=(predicted == labels).sum().item()\n",
    "\n",
    "val_accuracy =100 * correct / total\n",
    "print(f\"Validation Accuracy: {val_accuracy:.2f}%\")\n",
    "model.train()"
   ]
  },
  {
   "cell_type": "markdown",
   "id": "e5d15237-ade7-4bde-a448-cccc1c19d4d4",
   "metadata": {},
   "source": [
    "### evaluated Model on Validation Set\n",
    "I evaluated the performance 10% of the training data \n",
    "also calculated the validation accuracy"
   ]
  },
  {
   "cell_type": "code",
   "execution_count": 10,
   "id": "d98f2857-5e5b-4e60-aff6-43c24c31db14",
   "metadata": {},
   "outputs": [
    {
     "name": "stdout",
     "output_type": "stream",
     "text": [
      "Test Accuracy: 97.61%\n"
     ]
    }
   ],
   "source": [
    "model.eval()\n",
    "correct = 0\n",
    "total =0\n",
    "with  torch.no_grad():\n",
    "    for images , labels in  test_loader:\n",
    "        outputs =  model(images)\n",
    "        _, predicted = torch.max(outputs, 1)\n",
    "        total +=labels.size(0)\n",
    "        correct +=( predicted == labels).sum().item()\n",
    "test_accuracy  = 100 * correct / total\n",
    "print(f\"Test Accuracy: {test_accuracy:.2f}%\")"
   ]
  },
  {
   "cell_type": "markdown",
   "id": "f62077ce-2d12-449e-b068-0c0f48a1f615",
   "metadata": {},
   "source": [
    "###  Tested the Model on Unseen Data\n",
    "evaluated the model on the official MNIST test set\n",
    "The test accuracy show the model's generalization ability"
   ]
  },
  {
   "cell_type": "code",
   "execution_count": 11,
   "id": "50478b74-20cc-4bc9-bbe6-9e45f41c6e5a",
   "metadata": {},
   "outputs": [
    {
     "data": {
      "image/png": "[encoded data removed]",
      "text/plain": [
       "<Figure size 1000x400 with 6 Axes>"
      ]
     },
     "metadata": {},
     "output_type": "display_data"
    }
   ],
   "source": [
    "model.eval()\n",
    "images , labels  = next(iter(test_loader))\n",
    "with torch.no_grad():\n",
    "    outputs =  model(images)\n",
    "    _, predicted =torch.max( outputs , 1)\n",
    "import matplotlib.pyplot as  plt\n",
    "plt.figure(figsize=(10 , 4))\n",
    "for i in range(6):\n",
    "    plt.subplot( 2 , 3 , i+1)\n",
    "    plt.imshow( images[i].squeeze() , cmap='gray')\n",
    "    plt.title(f\"Actual: {labels[i].item()} \\nPredicted: {predicted[i].item()}\")\n",
    "    plt.axis('off')\n",
    "plt.tight_layout()\n",
    "plt.show()"
   ]
  },
  {
   "cell_type": "markdown",
   "id": "bb526bb3-b890-47dd-a7b8-baa4f7ff2429",
   "metadata": {},
   "source": [
    "###  Visualized predictions\n",
    "Visualized a few input images along with their corresponding predicted and actual labels."
   ]
  },
  {
   "cell_type": "markdown",
   "id": "34588fb2-f6b4-49e4-9095-bf1765d5a0f1",
   "metadata": {},
   "source": [
    "### Final Report – Model Summary and Performance\n",
    "\n",
    "####  Model Architecture\n",
    "A neural network with -\n",
    "Input layer-  784 neurons (flattened 28x28 image)\n",
    "Hidden layer 1 - 128 neurons + ReLU\n",
    "Hidden layer 2 - 64 neurons + ReLU\n",
    "\n",
    "\n",
    "####  Training process\n",
    "- Optimizer - Adam with learning rate 0.001\n",
    "- Loss Function- CrossEntropyLoss\n",
    "- Trained on 54k training images ( 90% of dataset)\n",
    "- Used 5 epochs\n",
    "\n",
    "####  Evaluation\n",
    "- Validation Accuracy- 97.43%\n",
    "- Test Accuracy- 97.61%"
   ]
  }
 ],
 "metadata": {
  "kernelspec": {
   "display_name": "Python [conda env:base] *",
   "language": "python",
   "name": "conda-base-py"
  },
  "language_info": {
   "codemirror_mode": {
    "name": "ipython",
    "version": 3
   },
   "file_extension": ".py",
   "mimetype": "text/x-python",
   "name": "python",
   "nbconvert_exporter": "python",
   "pygments_lexer": "ipython3",
   "version": "3.12.7"
  }
 },
 "nbformat": 4,
 "nbformat_minor": 5
}
